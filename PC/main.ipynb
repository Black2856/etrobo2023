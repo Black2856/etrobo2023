{
 "cells": [
  {
   "cell_type": "code",
   "execution_count": 1,
   "metadata": {},
   "outputs": [
    {
     "name": "stdout",
     "output_type": "stream",
     "text": [
      "wlan IPv4:\"10.17.7.206\"\n"
     ]
    }
   ],
   "source": [
    "# import処理は時間が掛かるため事前に終わらせておくと良い\n",
    "import sys\n",
    "import os\n",
    "import time\n",
    "import socket\n",
    "# wlan ipv4表示\n",
    "hostname = socket.gethostname()\n",
    "print(f'wlan IPv4:\\\"{socket.gethostbyname(hostname)}\\\"')\n",
    "\n",
    "os.chdir(os.path.dirname(os.path.abspath(\"__file__\")))\n",
    "sys.path.append(\"./recognize_image\")\n",
    "sys.path.append(\"./manage_signal\")\n",
    "\n",
    "from recognize_image.treasureAreaDetect import TreasureAreaDetect\n",
    "from recognize_image.minifig import Minifig\n",
    "from manage_signal.main import MainSignal\n",
    "from manage_signal.competitionSystem import CompetitionSystem\n",
    "\n",
    "class Main:\n",
    "    \"\"\"\n",
    "    様々なタスク(スレッドを動作させる)\n",
    "    ｲﾝｽﾀﾝｽ：競技システム(シングルトンクラス)\n",
    "    タスク：トレジャーエリアの検知\n",
    "    タスク：ミニフィグの推測処理\n",
    "    タスク：IoT列車攻略\n",
    "    タスク：送受信処理\n",
    "    \"\"\"\n",
    "    def __init__(self):\n",
    "        self.__competitionSystem = CompetitionSystem()\n",
    "        # ↓コースの指定\n",
    "        self.__competitionSystem.setCourse('r')\n",
    "\n",
    "        # スレッドの初期化\n",
    "        cameraDevice = 0\n",
    "        self.__treasureAreaDetect = TreasureAreaDetect(100, cameraDevice)\n",
    "        self.__minifig = Minifig(100)\n",
    "        self.__mainSignal = MainSignal()\n",
    "        print(\"[ main ]初期化完了\")\n",
    "\n",
    "    def execute(self):\n",
    "        # スレッドの起動\n",
    "        self.__treasureAreaDetect.startThread()\n",
    "        self.__minifig.startThread()\n",
    "        self.__mainSignal.startThread()\n",
    "\n",
    "        while True:\n",
    "            command = input(\"[ main ]コマンドの入力\")\n",
    "\n",
    "            if self.process_command(command) == True:\n",
    "                break\n",
    "\n",
    "    def process_command(self, command):\n",
    "        isEnd = False\n",
    "\n",
    "        if command.lower() in [\"e\", \"exit\"]:\n",
    "            self.terminate()\n",
    "            isEnd = True\n",
    "        elif command.lower() == \"c0\":\n",
    "            self.__treasureAreaDetect.changeCamera(0)\n",
    "            print(\"[ main ]0番カメラ切り替え\")\n",
    "        elif command.lower() == \"c1\":\n",
    "            self.__treasureAreaDetect.changeCamera(1)\n",
    "            print(\"[ main ]1番カメラ切り替え\")\n",
    "        elif command.lower() == \"c2\":\n",
    "            self.__treasureAreaDetect.changeCamera(2)\n",
    "            print(\"[ main ]2番カメラ切り替え\")\n",
    "        elif command.lower() == \"wait\":\n",
    "            time.sleep(1000)\n",
    "        else:\n",
    "            print(\"[ main ]無効なコマンドです\")\n",
    "            \n",
    "        return isEnd\n",
    "\n",
    "    def terminate(self):\n",
    "        self.__treasureAreaDetect.stopThread()\n",
    "        self.__minifig.stopThread()\n",
    "        self.__mainSignal.stopThread()\n",
    "\n",
    "        del self.__treasureAreaDetect\n",
    "        del self.__minifig\n",
    "        del self.__mainSignal\n",
    "        del self.__competitionSystem \n",
    "        print(\"[ main ]プログラムの終了\")"
   ]
  },
  {
   "cell_type": "code",
   "execution_count": 2,
   "metadata": {},
   "outputs": [
    {
     "name": "stdout",
     "output_type": "stream",
     "text": [
      "[ 競技システム ] rコース用のipv4 \"192.168.11.13\"を設定しました。\n",
      "受信用サーバ起動\n",
      "送信用サーバ起動\n",
      "Server started : 0.0.0.0:8080\n",
      "[ main ]初期化完了\n",
      "Server started : 0.0.0.0:8081\n",
      "Connected by ('10.17.6.89', 56406)\n",
      "Connected by ('10.17.6.89', 56466)\n",
      "Recv Image\n",
      "  data size : b''\n"
     ]
    },
    {
     "name": "stderr",
     "output_type": "stream",
     "text": [
      "Exception in thread Thread-8 (__ThreadProcess):\n",
      "Traceback (most recent call last):\n",
      "  File \"c:\\Users\\n1200152.STCN2\\.conda\\envs\\etrobo\\lib\\threading.py\", line 1016, in _bootstrap_inner\n",
      "    self.run()\n",
      "  File \"c:\\Users\\n1200152.STCN2\\.conda\\envs\\etrobo\\lib\\threading.py\", line 953, in run\n",
      "    self._target(*self._args, **self._kwargs)\n",
      "  File \"c:\\Users\\n1200152.STCN2\\Desktop\\etrobo2023\\PC\\install\\parallelProcessing.py\", line 52, in __ThreadProcess\n",
      "    self.execute()\n",
      "  File \"c:\\Users\\n1200152.STCN2\\Desktop\\etrobo2023\\PC\\manage_signal\\main.py\", line 35, in execute\n",
      "    self.signal.recvImage(IMG_PATH)\n",
      "  File \"c:\\Users\\n1200152.STCN2\\Desktop\\etrobo2023\\PC\\manage_signal\\Signal.py\", line 101, in recvImage\n",
      "    binary_data = self.__recvItem()\n",
      "  File \"c:\\Users\\n1200152.STCN2\\Desktop\\etrobo2023\\PC\\manage_signal\\Signal.py\", line 77, in __recvItem\n",
      "    buffer_size = struct.unpack(FORMAT, buffer_size)[0]\n",
      "struct.error: unpack requires a buffer of 8 bytes\n"
     ]
    }
   ],
   "source": [
    "### 各種デバイスセッティングができたら押す\n",
    "    \n",
    "## 準備期間でやること\n",
    "# ①画面にカメラデバイスが起動し検知済みかどうかを確認できるので、カメラの向き調整を調整してください\n",
    "# ②走行体との通信関係ができているかを確認(通信相手のIPアドレスが表示される)\n",
    "\n",
    "# 一度プログラムを走らせたらカーネルを再起動推奨\n",
    "if __name__ == \"__main__\":\n",
    "    main = Main()\n",
    "    main.execute()"
   ]
  }
 ],
 "metadata": {
  "kernelspec": {
   "display_name": "etrobo",
   "language": "python",
   "name": "python3"
  },
  "language_info": {
   "codemirror_mode": {
    "name": "ipython",
    "version": 3
   },
   "file_extension": ".py",
   "mimetype": "text/x-python",
   "name": "python",
   "nbconvert_exporter": "python",
   "pygments_lexer": "ipython3",
   "version": "3.10.13"
  },
  "orig_nbformat": 4
 },
 "nbformat": 4,
 "nbformat_minor": 2
}
