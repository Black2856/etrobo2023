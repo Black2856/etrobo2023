{
 "cells": [
  {
   "cell_type": "code",
   "execution_count": 1,
   "metadata": {},
   "outputs": [],
   "source": [
    "# import処理は時間が掛かるため事前に終わらせておくと良い\n",
    "import sys\n",
    "import os\n",
    "import time\n",
    "\n",
    "os.chdir(os.path.dirname(os.path.abspath(\"__file__\")))\n",
    "sys.path.append(\"./recognize_image\")\n",
    "\n",
    "from recognize_image.treasureAreaDetect import TreasureAreaDetect\n",
    "from recognize_image.minifig import Minifig\n",
    "\n",
    "class Main:\n",
    "    \"\"\"\n",
    "    様々なタスク(スレッドを動作させる)\n",
    "    ｲﾝｽﾀﾝｽ：競技システム（シングルトン）\n",
    "    タスク：トレジャーエリアの検知\n",
    "    タスク：ミニフィグの推測処理\n",
    "    タスク：IoT列車攻略\n",
    "    タスク：受信処理\n",
    "    タスク：送信処理\n",
    "    \"\"\"\n",
    "    def __init__(self):\n",
    "        # スレッドの初期化\n",
    "        cameraDevice = 0\n",
    "        self.__treasureAreaDetect = TreasureAreaDetect(100, cameraDevice)\n",
    "        self.__minifig = Minifig(100)\n",
    "        print(\"[ main ]初期化完了\")\n",
    "\n",
    "    def execute(self):\n",
    "        # スレッドの起動\n",
    "        self.__treasureAreaDetect.startThread()\n",
    "        self.__minifig.startThread()\n",
    "\n",
    "        while True:\n",
    "            command = input(\"[ main ]コマンドの入力\")\n",
    "\n",
    "            if self.process_command(command) == True:\n",
    "                break\n",
    "\n",
    "    def process_command(self, command):\n",
    "        isEnd = False\n",
    "\n",
    "        if command.lower() in [\"e\", \"exit\"]:\n",
    "            self.terminate()\n",
    "            isEnd = True\n",
    "        elif command.lower() == \"c0\":\n",
    "            self.__treasureAreaDetect.changeCamera(0)\n",
    "            print(\"[ main ]0番カメラ切り替え\")\n",
    "        elif command.lower() == \"c1\":\n",
    "            self.__treasureAreaDetect.changeCamera(1)\n",
    "            print(\"[ main ]1番カメラ切り替え\")\n",
    "        elif command.lower() == \"c2\":\n",
    "            self.__treasureAreaDetect.changeCamera(2)\n",
    "            print(\"[ main ]2番カメラ切り替え\")\n",
    "        elif command.lower() == \"wait\":\n",
    "            time.sleep(300)\n",
    "        else:\n",
    "            print(\"[ main ]無効なコマンドです\")\n",
    "            \n",
    "        return isEnd\n",
    "\n",
    "    def terminate(self):\n",
    "        self.__treasureAreaDetect.stopThread()\n",
    "        self.__minifig.stopThread()\n",
    "        print(\"[ main ]プログラムの終了\")"
   ]
  },
  {
   "cell_type": "code",
   "execution_count": 2,
   "metadata": {},
   "outputs": [
    {
     "name": "stdout",
     "output_type": "stream",
     "text": [
      "[ main ]初期化完了\n",
      "[ TreasureAreaDetect ]以下のブロック配置の決定がされました。\n",
      "[none, none, none, none, ]\n",
      "[none, none, none, none, ]\n",
      "[none, decoy, none, none, ]\n",
      "[treasure, decoy, none, none, ]\n",
      "------------\n",
      "[ TreasureAreaDetect ]走行体のルート生成完了\n"
     ]
    }
   ],
   "source": [
    "### 各種デバイスセッティングができたら押す\n",
    "\n",
    "## 準備期間でやること\n",
    "# ①画面にカメラデバイスが起動し検知済みかどうかを確認できるので、カメラの向き調整を調整してください\n",
    "# ②走行体との通信関係ができているかを確認(通信相手のIPアドレスが表示される)\n",
    "\n",
    "# 一度プログラムを走らせたらカーネルを再起動推奨\n",
    "if __name__ == \"__main__\":\n",
    "    main = Main()\n",
    "    main.execute()"
   ]
  }
 ],
 "metadata": {
  "kernelspec": {
   "display_name": "etrobo",
   "language": "python",
   "name": "python3"
  },
  "language_info": {
   "codemirror_mode": {
    "name": "ipython",
    "version": 3
   },
   "file_extension": ".py",
   "mimetype": "text/x-python",
   "name": "python",
   "nbconvert_exporter": "python",
   "pygments_lexer": "ipython3",
   "version": "3.10.13"
  },
  "orig_nbformat": 4
 },
 "nbformat": 4,
 "nbformat_minor": 2
}
