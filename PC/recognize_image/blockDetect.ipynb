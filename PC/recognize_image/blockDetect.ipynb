{
 "cells": [
  {
   "cell_type": "code",
   "execution_count": null,
   "metadata": {},
   "outputs": [],
   "source": [
    "import cv2\n",
    "\n",
    "import treasureArea as ta\n",
    "import webCamera as wc\n",
    "\n",
    "class blockDetect:\n",
    "    def __init__(self):\n",
    "        self.treasureArea = ta.TreasureArea()\n",
    "        self.webCamera = wc.WebCamera(0)\n",
    "    \n",
    "    def detectArea(self):\n",
    "        pass\n",
    "\n",
    "    def detectBlock(self):\n",
    "        pass\n",
    "    \n",
    "    def __imageProcess(self, image):\n",
    "        pass\n",
    "\n",
    "    def __findPoints(self, image):\n",
    "        pass\n",
    "\n",
    "    def __findArea(self, point):\n",
    "        pass\n",
    "\n",
    "    def __findBlock(self, area):\n",
    "        pass\n"
   ]
  }
 ],
 "metadata": {
  "language_info": {
   "name": "python"
  },
  "orig_nbformat": 4
 },
 "nbformat": 4,
 "nbformat_minor": 2
}
