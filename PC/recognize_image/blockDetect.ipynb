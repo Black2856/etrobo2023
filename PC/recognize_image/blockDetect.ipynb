{
 "cells": [
  {
   "cell_type": "code",
   "execution_count": null,
   "metadata": {},
   "outputs": [],
   "source": [
    "import cv2\n",
    "\n",
    "import treasureArea as ta\n",
    "import webCamera as wc\n",
    "\n",
    "class blockDetect:\n",
    "    def __init__(self):\n",
    "        self.treasureArea = ta.TreasureArea()\n",
    "        self.webCamera = wc.WebCamera(0)\n",
    "    \n",
    "    def detect(self):\n",
    "        None\n",
    "    \n",
    "    def __imageProcess(self, image):\n",
    "\n",
    "    def __findPoints(self, image):\n",
    "\n",
    "    def __findArea(self, point)\n"
   ]
  }
 ],
 "metadata": {
  "language_info": {
   "name": "python"
  },
  "orig_nbformat": 4
 },
 "nbformat": 4,
 "nbformat_minor": 2
}
