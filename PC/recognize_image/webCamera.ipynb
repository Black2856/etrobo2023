{
 "cells": [
  {
   "cell_type": "code",
   "execution_count": 3,
   "metadata": {},
   "outputs": [],
   "source": [
    "import cv2\n",
    "\n",
    "class WebCamera:\n",
    "    def __init__(self, deviceID:int):\n",
    "        \"\"\"\n",
    "        引数:deviceID -> カメラのID指定\n",
    "        \"\"\"\n",
    "        self.__deviceID = deviceID\n",
    "\n",
    "    def capture(self):\n",
    "        \"\"\"\n",
    "        返り値:画像データ\n",
    "        \"\"\"\n",
    "        cap = cv2.VideoCapture(0)\n",
    "        ret, frame = cap.read()\n",
    "        cap.release()\n",
    "\n",
    "        if ret:\n",
    "           return frame\n",
    "           #cv2.imwrite(\"webcam_image.jpg\", frame)\n"
   ]
  },
  {
   "cell_type": "code",
   "execution_count": 4,
   "metadata": {},
   "outputs": [],
   "source": [
    "if __name__ == \"__main__\":\n",
    "    wc = WebCamera(0)\n",
    "    wc.capture()"
   ]
  }
 ],
 "metadata": {
  "kernelspec": {
   "display_name": "base",
   "language": "python",
   "name": "python3"
  },
  "language_info": {
   "codemirror_mode": {
    "name": "ipython",
    "version": 3
   },
   "file_extension": ".py",
   "mimetype": "text/x-python",
   "name": "python",
   "nbconvert_exporter": "python",
   "pygments_lexer": "ipython3",
   "version": "3.10.9"
  },
  "orig_nbformat": 4
 },
 "nbformat": 4,
 "nbformat_minor": 2
}
