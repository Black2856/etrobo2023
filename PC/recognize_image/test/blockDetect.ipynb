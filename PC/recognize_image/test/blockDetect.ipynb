{
 "cells": [
  {
   "cell_type": "code",
   "execution_count": 25,
   "metadata": {},
   "outputs": [],
   "source": [
    "import cv2\n",
    "import numpy as np\n",
    "from PIL import Image\n",
    "import matplotlib.pyplot as plt"
   ]
  },
  {
   "cell_type": "code",
   "execution_count": 26,
   "metadata": {},
   "outputs": [],
   "source": [
    "class BlockDetect:\n",
    "    def __init__(self):\n",
    "        #閾値 (360°100°100°)\n",
    "        self.__decoyRange = [\n",
    "                            ((0, 0, 0), (1, 100, 25)),\n",
    "                            ((0, 0, 0), (2, 100, 25))\n",
    "                            ]\n",
    "        self.__treasureRange = [((0, 50, 25), (40, 100, 100))]\n",
    "        self.__imageSize = 300\n",
    "        pass\n",
    "\n",
    "    def findBlock(self, image, areaPoints):\n",
    "        if (None in areaPoints) or (len(areaPoints) != 4):\n",
    "            return image, []\n",
    "        warpedImg = self.__projectiveImage(image, areaPoints)\n",
    "        blockColor = self.__getPointColor(warpedImg)\n",
    "        return warpedImg, blockColor\n",
    "        #plt.imshow(warpedImg)\n",
    "\n",
    "    def __projectiveImage(self, image, areaPoints):\n",
    "        # Define the source and destination points\n",
    "        size = self.__imageSize\n",
    "        srcPts = np.array([areaPoints[0], areaPoints[1], areaPoints[2], areaPoints[3]], dtype=np.float32)\n",
    "        dstPts = np.array([(0, size), (size, size), (size, 0), (0, 0)], dtype=np.float32)\n",
    "\n",
    "        # Calculate the homography matrix\n",
    "        H, _ = cv2.findHomography(srcPts, dstPts)\n",
    "\n",
    "        # Apply the perspective transform\n",
    "        warpedImg = cv2.warpPerspective(image, H, (self.__imageSize, self.__imageSize))\n",
    "\n",
    "        return warpedImg\n",
    "\n",
    "    def __getPointColor(self, warpedImg):\n",
    "        #取得ポイントを計算\n",
    "        getPoints = []\n",
    "        countPoints = 4\n",
    "        size = self.__imageSize - 1\n",
    "        for i in range(countPoints):\n",
    "            y = round(size / (countPoints - 1) * i)\n",
    "            for j in range(countPoints):\n",
    "                x = round(size / (countPoints - 1) * j)\n",
    "                getPoints.append((x, y))\n",
    "\n",
    "        # HSV値の正規化\n",
    "        decoyRange = self.__normalizeHSV(self.__decoyRange)\n",
    "        treasureRange = self.__normalizeHSV(self.__treasureRange)\n",
    "        # ブロック判別\n",
    "        image = cv2.cvtColor(warpedImg, cv2.COLOR_RGB2HSV)\n",
    "        areaBlock = []\n",
    "        for pos in getPoints:\n",
    "            pixel = image[pos[0], pos[1]]\n",
    "            if self.__checkPixel(pixel, treasureRange) == True:\n",
    "                areaBlock.append('treasure')\n",
    "            elif self.__checkPixel(pixel, decoyRange) == True:\n",
    "                areaBlock.append('decoy')\n",
    "            else:\n",
    "                areaBlock.append('none')\n",
    "\n",
    "        return areaBlock\n",
    "\n",
    "    def __normalizeHSV(self, HSVranges):\n",
    "        converted_ranges = [\n",
    "            (\n",
    "                tuple(map(int, np.round(np.multiply(min_HSV, np.array([180/360, 255/100, 255/100]))))),\n",
    "                tuple(map(int, np.round(np.multiply(max_HSV, np.array([180/360, 255/100, 255/100]))))\n",
    "            )) for min_HSV, max_HSV in HSVranges\n",
    "        ]\n",
    "        return converted_ranges\n",
    "    \n",
    "    def __checkPixel(self, pixelHSV, HSVranges):\n",
    "        for HSVrange in HSVranges:\n",
    "            HSVmin = HSVrange[0]\n",
    "            HSVmax = HSVrange[1]\n",
    "            if HSVmin[0] <= pixelHSV[0] <= HSVmax[0] and HSVmin[1] <= pixelHSV[1] <= HSVmax[1] and HSVmin[2] <= pixelHSV[2] <= HSVmax[2]:\n",
    "                return True\n",
    "        return False"
   ]
  },
  {
   "cell_type": "code",
   "execution_count": 27,
   "metadata": {},
   "outputs": [
    {
     "name": "stdout",
     "output_type": "stream",
     "text": [
      "['none', 'none', 'none', 'treasure', 'none', 'none', 'none', 'none', 'none', 'none', 'none', 'none', 'none', 'none', 'none', 'none']\n"
     ]
    }
   ],
   "source": [
    "if __name__ == \"__main__\":\n",
    "    blockDetect = BlockDetect()\n",
    "    img = cv2.imread(\"./test.png\")\n",
    "    p = [(130, 388), (665, 162), (382, 41), (31, 112)]\n",
    "    image, block = blockDetect.findBlock(img, p)\n",
    "    print(block)"
   ]
  }
 ],
 "metadata": {
  "kernelspec": {
   "display_name": "base",
   "language": "python",
   "name": "python3"
  },
  "language_info": {
   "codemirror_mode": {
    "name": "ipython",
    "version": 3
   },
   "file_extension": ".py",
   "mimetype": "text/x-python",
   "name": "python",
   "nbconvert_exporter": "python",
   "pygments_lexer": "ipython3",
   "version": "3.10.9"
  },
  "orig_nbformat": 4
 },
 "nbformat": 4,
 "nbformat_minor": 2
}
