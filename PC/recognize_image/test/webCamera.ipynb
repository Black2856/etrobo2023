{
 "cells": [
  {
   "cell_type": "code",
   "execution_count": 1,
   "metadata": {},
   "outputs": [],
   "source": [
    "import os\n",
    "os.environ[\"OPENCV_VIDEOIO_MSMF_ENABLE_HW_TRANSFORMS\"] = \"0\"\n",
    "import cv2\n",
    "\n",
    "class WebCamera:\n",
    "    def __init__(self, deviceID:int):\n",
    "        \"\"\"\n",
    "        引数:deviceID -> カメラのID指定\n",
    "        \"\"\"\n",
    "        width, height = 792, 432\n",
    "        self.__deviceID = deviceID\n",
    "        self.__cap = cv2.VideoCapture(self.__deviceID)\n",
    "        self.__cap.set(cv2.CAP_PROP_FRAME_WIDTH, width)\n",
    "        self.__cap.set(cv2.CAP_PROP_FRAME_HEIGHT, height)\n",
    "\n",
    "    def __del__(self):\n",
    "        self.__cap.release()\n",
    "\n",
    "    def capture(self):\n",
    "        \"\"\"\n",
    "        返り値:画像データ\n",
    "        \"\"\"\n",
    "        #cap = cv2.VideoCapture(self.__deviceID)\n",
    "        ret, frame = self.__cap.read()\n",
    "        #cap.release()\n",
    "\n",
    "        if ret:\n",
    "           return frame\n",
    "           #cv2.imwrite(\"webcam_image.jpg\", frame)\n"
   ]
  },
  {
   "cell_type": "code",
   "execution_count": 2,
   "metadata": {},
   "outputs": [
    {
     "ename": "KeyboardInterrupt",
     "evalue": "",
     "output_type": "error",
     "traceback": [
      "\u001b[1;31m---------------------------------------------------------------------------\u001b[0m",
      "\u001b[1;31mKeyboardInterrupt\u001b[0m                         Traceback (most recent call last)",
      "\u001b[1;32mc:\\Users\\n1200152.STCN2\\Desktop\\etrobo2023\\PC\\recognize_image\\test\\webCamera.ipynb セル 2\u001b[0m line \u001b[0;36m8\n\u001b[0;32m      <a href='vscode-notebook-cell:/c%3A/Users/n1200152.STCN2/Desktop/etrobo2023/PC/recognize_image/test/webCamera.ipynb#W1sZmlsZQ%3D%3D?line=5'>6</a>\u001b[0m image \u001b[39m=\u001b[39m wc\u001b[39m.\u001b[39mcapture()\n\u001b[0;32m      <a href='vscode-notebook-cell:/c%3A/Users/n1200152.STCN2/Desktop/etrobo2023/PC/recognize_image/test/webCamera.ipynb#W1sZmlsZQ%3D%3D?line=6'>7</a>\u001b[0m cv2\u001b[39m.\u001b[39mimshow(\u001b[39m\"\u001b[39m\u001b[39ma\u001b[39m\u001b[39m\"\u001b[39m, image)\n\u001b[1;32m----> <a href='vscode-notebook-cell:/c%3A/Users/n1200152.STCN2/Desktop/etrobo2023/PC/recognize_image/test/webCamera.ipynb#W1sZmlsZQ%3D%3D?line=7'>8</a>\u001b[0m \u001b[39mif\u001b[39;00m cv2\u001b[39m.\u001b[39;49mwaitKey(\u001b[39m30\u001b[39;49m) \u001b[39m&\u001b[39m \u001b[39m0xFF\u001b[39m \u001b[39m==\u001b[39m \u001b[39mord\u001b[39m(\u001b[39m'\u001b[39m\u001b[39mq\u001b[39m\u001b[39m'\u001b[39m):\n\u001b[0;32m      <a href='vscode-notebook-cell:/c%3A/Users/n1200152.STCN2/Desktop/etrobo2023/PC/recognize_image/test/webCamera.ipynb#W1sZmlsZQ%3D%3D?line=8'>9</a>\u001b[0m     \u001b[39mbreak\u001b[39;00m\n",
      "\u001b[1;31mKeyboardInterrupt\u001b[0m: "
     ]
    }
   ],
   "source": [
    "import matplotlib.pyplot as plt\n",
    "import time\n",
    "if __name__ == \"__main__\":\n",
    "    wc = WebCamera(2)\n",
    "    while True:\n",
    "        image = wc.capture()\n",
    "        cv2.imshow(\"a\", image)\n",
    "        if cv2.waitKey(30) & 0xFF == ord('q'):\n",
    "            break"
   ]
  }
 ],
 "metadata": {
  "kernelspec": {
   "display_name": "base",
   "language": "python",
   "name": "python3"
  },
  "language_info": {
   "codemirror_mode": {
    "name": "ipython",
    "version": 3
   },
   "file_extension": ".py",
   "mimetype": "text/x-python",
   "name": "python",
   "nbconvert_exporter": "python",
   "pygments_lexer": "ipython3",
   "version": "3.10.13"
  },
  "orig_nbformat": 4
 },
 "nbformat": 4,
 "nbformat_minor": 2
}
