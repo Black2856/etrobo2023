{
 "cells": [
  {
   "cell_type": "code",
   "execution_count": 1,
   "metadata": {},
   "outputs": [],
   "source": [
    "import numpy as np\n",
    "import tensorflow as tf\n",
    "from tensorflow import keras\n",
    "from tensorflow.keras.preprocessing.image import ImageDataGenerator, load_img, img_to_array\n",
    "import matplotlib.pyplot as plt\n",
    "import random\n",
    "from sklearn.metrics import confusion_matrix\n",
    "import os\n",
    "import time\n",
    "import cv2\n",
    "from hashids import Hashids\n",
    "import random\n",
    "\n",
    "from parallelProcessing import ParallelProcessing"
   ]
  },
  {
   "cell_type": "code",
   "execution_count": 2,
   "metadata": {},
   "outputs": [],
   "source": [
    "class Minifig(ParallelProcessing):\n",
    "    def __init__(self, cycle):\n",
    "        super().__init__()\n",
    "        self.__cycle = cycle\n",
    "        self.__model = keras.models.load_model(\"best_model_50epoch.h5\")\n",
    "        self.__label_name = ['0d', '135d', '180d', '225d', '270d', '315d', '45d', '90d']\n",
    "        self.__minifigDataPath = './minifig_data/'\n",
    "        self.__saveImagePath = './minifig_processed_data/'\n",
    "        self.__savelabelPath = './'\n",
    "        self.__processCount = 0\n",
    "        pass\n",
    "\n",
    "    def execute(self):\n",
    "        ret, image, name = self.__loadImage()\n",
    "        if ret != False:\n",
    "            print('find')\n",
    "            label = self.__predictImage(name)\n",
    "            self.__saveLabel(label)\n",
    "            self.__saveImage(image, name)\n",
    "            self.__processCount += 1\n",
    "            print(f'{label}')\n",
    "\n",
    "    def __loadImage(self):\n",
    "        contents = os.listdir(self.__minifigDataPath)\n",
    "        if len(contents) == 0:\n",
    "            return False, None, None\n",
    "        loadFile = contents[0]\n",
    "        image = cv2.imread(F'{self.__minifigDataPath}{loadFile}')\n",
    "        return True, image, loadFile\n",
    "\n",
    "    def __saveImage(self, image, name):\n",
    "        rand = round(random.uniform(0, 2**31-1))\n",
    "        # min_lengthに最小桁数を指定\n",
    "        hashids = Hashids(salt='imageNameSeed', min_length=16)\n",
    "        fileName = f'{hashids.encode(rand)}.png'\n",
    "\n",
    "        cv2.imwrite(f'{self.__saveImagePath}{fileName}', image)\n",
    "        # 処理したファイルの削除\n",
    "        file_to_delete = f'{self.__minifigDataPath}{name}'\n",
    "        os.remove(file_to_delete)\n",
    "\n",
    "    def __saveLabel(self, label):\n",
    "        name = 'minifigLabel.txt'\n",
    "        with open(f'{self.__savelabelPath}{name}', 'w') as file:\n",
    "            file.write(label)\n",
    "\n",
    "    def __predictImage(self, name):\n",
    "        image = tf.io.read_file(f'{self.__minifigDataPath}{name}')\n",
    "        images = []\n",
    "\n",
    "        # 画像の正規化\n",
    "        image = tf.image.decode_jpeg(image, channels=3)\n",
    "        image = tf.image.resize(image, [380, 380])\n",
    "        image = tf.cast(image, tf.float32) / 255.0 # rescale to [0, 1]\n",
    "        images.append(image)\n",
    "        images = tf.stack(images)\n",
    "\n",
    "        ## 推定\n",
    "        predictions = self.__model.predict(images)\n",
    "        predLabels = np.argmax(predictions, axis=1)\n",
    "        label = self.__label_name[predLabels[0]]\n",
    "        return label"
   ]
  },
  {
   "cell_type": "code",
   "execution_count": 3,
   "metadata": {},
   "outputs": [
    {
     "name": "stdout",
     "output_type": "stream",
     "text": [
      "find\n",
      "45d\n",
      "find\n",
      "45d\n",
      "find\n",
      "45d\n"
     ]
    }
   ],
   "source": [
    "minifig = Minifig(100)\n",
    "minifig.startThread()\n",
    "time.sleep(15)\n",
    "minifig.stopThread()"
   ]
  }
 ],
 "metadata": {
  "kernelspec": {
   "display_name": "base",
   "language": "python",
   "name": "python3"
  },
  "language_info": {
   "codemirror_mode": {
    "name": "ipython",
    "version": 3
   },
   "file_extension": ".py",
   "mimetype": "text/x-python",
   "name": "python",
   "nbconvert_exporter": "python",
   "pygments_lexer": "ipython3",
   "version": "3.10.13"
  },
  "orig_nbformat": 4
 },
 "nbformat": 4,
 "nbformat_minor": 2
}
